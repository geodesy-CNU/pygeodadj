{
  "nbformat": 4,
  "nbformat_minor": 0,
  "metadata": {
    "colab": {
      "name": "Matrix_basic.ipynb",
      "provenance": [],
      "collapsed_sections": []
    },
    "kernelspec": {
      "name": "python3",
      "display_name": "Python 3"
    }
  },
  "cells": [
    {
      "cell_type": "markdown",
      "metadata": {
        "id": "VUuhTM5baGSj",
        "colab_type": "text"
      },
      "source": [
        "# 矩陣基本運算\n",
        "\n",
        "使用numpy套件的array，輸入矩陣a\n",
        "\n",
        "$a=\\begin{bmatrix}\n",
        "1 & 2 & 3 \\\\\n",
        "3 & 4 & 5\n",
        "\\end{bmatrix}\n",
        "$"
      ]
    },
    {
      "cell_type": "code",
      "metadata": {
        "id": "xCOINVHkaHDX",
        "colab_type": "code",
        "colab": {
          "base_uri": "https://localhost:8080/",
          "height": 51
        },
        "outputId": "520a063b-c0a6-4ea9-ee8c-a3abeb55fabe"
      },
      "source": [
        "import numpy as np\n",
        "\n",
        "a = np.array([[1, 2, 3],\n",
        "              [3, 4, 5]])\n",
        "print(a)"
      ],
      "execution_count": 1,
      "outputs": [
        {
          "output_type": "stream",
          "text": [
            "[[1 2 3]\n",
            " [3 4 5]]\n"
          ],
          "name": "stdout"
        }
      ]
    },
    {
      "cell_type": "markdown",
      "metadata": {
        "id": "_YVQ2z_Ta7vC",
        "colab_type": "text"
      },
      "source": [
        "輸入矩陣b，並且使用b矩陣shape屬性，查詢其矩陣大小\n",
        "\n",
        "$b=\\begin{bmatrix}\n",
        "2 & 1 & 3 \\\\\n",
        "4 & 2 & 5\n",
        "\\end{bmatrix}\n",
        "$\n",
        "\n"
      ]
    },
    {
      "cell_type": "code",
      "metadata": {
        "id": "jMWKMdM24vFC",
        "colab_type": "code",
        "outputId": "7335c467-4fe9-4830-df5e-443a66b7cadd",
        "colab": {
          "base_uri": "https://localhost:8080/",
          "height": 68
        }
      },
      "source": [
        "b=np.array([[2, 1, 3],\n",
        "            [4, 2, 5]])\n",
        "print(b)\n",
        "print(b.shape)"
      ],
      "execution_count": 2,
      "outputs": [
        {
          "output_type": "stream",
          "text": [
            "[[2 1 3]\n",
            " [4 2 5]]\n",
            "(2, 3)\n"
          ],
          "name": "stdout"
        }
      ]
    },
    {
      "cell_type": "markdown",
      "metadata": {
        "id": "rI5EChRtbW7N",
        "colab_type": "text"
      },
      "source": [
        "## 轉置矩陣\n",
        "\n",
        "使用b.T語法，求得b矩陣的轉置矩陣，存入c矩陣\n",
        "\n",
        "$c=b'=\\begin{bmatrix}\n",
        "2 & 4 \\\\\n",
        "1 & 2 \\\\\n",
        "3 & 5\n",
        "\\end{bmatrix}\n",
        "$"
      ]
    },
    {
      "cell_type": "code",
      "metadata": {
        "id": "1L-frAO04PKF",
        "colab_type": "code",
        "outputId": "eefb2757-299b-43a2-be05-2a2fdf398ff6",
        "colab": {
          "base_uri": "https://localhost:8080/",
          "height": 68
        }
      },
      "source": [
        "c = b.T\n",
        "print(c)"
      ],
      "execution_count": 3,
      "outputs": [
        {
          "output_type": "stream",
          "text": [
            "[[2 4]\n",
            " [1 2]\n",
            " [3 5]]\n"
          ],
          "name": "stdout"
        }
      ]
    },
    {
      "cell_type": "markdown",
      "metadata": {
        "id": "zNM5a1vwb-Se",
        "colab_type": "text"
      },
      "source": [
        "## 矩陣加/減法\n",
        "$d=a+b=\n",
        "\\begin{bmatrix}\n",
        "1 & 2 & 3 \\\\\n",
        "3 & 4 & 5\n",
        "\\end{bmatrix}+\n",
        "\\begin{bmatrix}\n",
        "2 & 1 & 3 \\\\\n",
        "4 & 2 & 5\n",
        "\\end{bmatrix}\n",
        "=\\begin{bmatrix}\n",
        "3 & 3 & 6 \\\\\n",
        "7 & 6 & 10\n",
        "\\end{bmatrix}\n",
        "$\n",
        "\n",
        "$\n",
        "\\begin{bmatrix}\n",
        "1 & 2 & 3 \\\\\n",
        "3 & 4 & 5\n",
        "\\end{bmatrix}-\n",
        "\\begin{bmatrix}\n",
        "2 & 1 & 3 \\\\\n",
        "4 & 2 & 5\n",
        "\\end{bmatrix}\n",
        "=\\begin{bmatrix}\n",
        "-1 & 1 & 0 \\\\\n",
        "-1 & 2 & 0\n",
        "\\end{bmatrix}\n",
        "$"
      ]
    },
    {
      "cell_type": "code",
      "metadata": {
        "id": "7Woo3s9Q4a6p",
        "colab_type": "code",
        "outputId": "62f2d820-3468-43ab-ab31-c17ed6515a7b",
        "colab": {
          "base_uri": "https://localhost:8080/",
          "height": 119
        }
      },
      "source": [
        "print('a+b')\n",
        "d=a+b\n",
        "print(d)\n",
        "\n",
        "print('a-b')\n",
        "print(a-b)"
      ],
      "execution_count": 0,
      "outputs": [
        {
          "output_type": "stream",
          "text": [
            "a+b\n",
            "[[ 3  3  6]\n",
            " [ 7  6 10]]\n",
            "a-b\n",
            "[[-1  1  0]\n",
            " [-1  2  0]]\n"
          ],
          "name": "stdout"
        }
      ]
    },
    {
      "cell_type": "code",
      "metadata": {
        "id": "fyk0T-Pl4hsu",
        "colab_type": "code",
        "outputId": "8b0ba1e3-3064-4237-d7ff-896070576b35",
        "colab": {
          "base_uri": "https://localhost:8080/",
          "height": 68
        }
      },
      "source": [
        "e=a*b\n",
        "print('a*b=')\n",
        "print(e)"
      ],
      "execution_count": 0,
      "outputs": [
        {
          "output_type": "stream",
          "text": [
            "a*b=\n",
            "[[ 2  2  9]\n",
            " [12  8 25]]\n"
          ],
          "name": "stdout"
        }
      ]
    },
    {
      "cell_type": "code",
      "metadata": {
        "id": "7yMV1IhV8BPi",
        "colab_type": "code",
        "outputId": "4e1817f2-70e0-4beb-d11c-6c57775570ec",
        "colab": {
          "base_uri": "https://localhost:8080/",
          "height": 51
        }
      },
      "source": [
        "g=np.dot(a,c)\n",
        "print(g)"
      ],
      "execution_count": 0,
      "outputs": [
        {
          "output_type": "stream",
          "text": [
            "[[13 23]\n",
            " [25 45]]\n"
          ],
          "name": "stdout"
        }
      ]
    },
    {
      "cell_type": "code",
      "metadata": {
        "id": "IQSHsLET8_4y",
        "colab_type": "code",
        "outputId": "474823e1-098e-4bee-92a3-94d5cad0780b",
        "colab": {
          "base_uri": "https://localhost:8080/",
          "height": 119
        }
      },
      "source": [
        "from numpy.linalg import inv\n",
        "\n",
        "Q=np.dot(a,a.T)\n",
        "print('A*At')\n",
        "print(Q)\n",
        "\n",
        "N=inv(Q)\n",
        "print('inv(A*At)')\n",
        "print(N)"
      ],
      "execution_count": 0,
      "outputs": [
        {
          "output_type": "stream",
          "text": [
            "A*At\n",
            "[[14 26]\n",
            " [26 50]]\n",
            "inv(A*At)\n",
            "[[ 2.08333333 -1.08333333]\n",
            " [-1.08333333  0.58333333]]\n"
          ],
          "name": "stdout"
        }
      ]
    },
    {
      "cell_type": "code",
      "metadata": {
        "id": "3j_GDatz94ld",
        "colab_type": "code",
        "colab": {}
      },
      "source": [
        ""
      ],
      "execution_count": 0,
      "outputs": []
    },
    {
      "cell_type": "code",
      "metadata": {
        "id": "z2k-HCmRWSka",
        "colab_type": "code",
        "colab": {}
      },
      "source": [
        ""
      ],
      "execution_count": 0,
      "outputs": []
    }
  ]
}