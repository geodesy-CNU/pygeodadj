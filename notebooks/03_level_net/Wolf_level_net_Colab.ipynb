{
 "cells": [
  {
   "cell_type": "markdown",
   "metadata": {
    "colab_type": "text",
    "id": "8ilwUYr1WgHM"
   },
   "source": [
    "# Level Net 2\n"
   ]
  },
  {
   "cell_type": "markdown",
   "metadata": {
    "colab_type": "text",
    "id": "71irBR9iWtln"
   },
   "source": [
    "## Python 最小二乘法模組"
   ]
  },
  {
   "cell_type": "code",
   "execution_count": 1,
   "metadata": {},
   "outputs": [],
   "source": [
    "import numpy as np\n",
    "from numpy.linalg import inv\n",
    "import math\n",
    "\n",
    "# General purpose matrix printing function\n",
    "def Matrix_print(X,matrix_title=\"Matrix\"):\n",
    "    print(\"\\n%s\"%matrix_title)\n",
    "    \n",
    "    if len(X.shape)==1:\n",
    "        for x in X:\n",
    "            print('%10.4f'%(x))\n",
    "    else:\n",
    "        print(X)\n",
    "        \n",
    "# General purpose matrix printing function\n",
    "def Matrix_print2(X,sX,matrix_title=\"Matrix\",unit=\"\"):\n",
    "    print(\"\\n%s\"%matrix_title)\n",
    "    \n",
    "    for x,sx in zip(X,sX):\n",
    "        if unit is None:\n",
    "            print('%.4f +/- %.4f'%(x,sx))\n",
    "        else:\n",
    "            print('%.4f%s +/- %.4f (%s)'%(x, unit, sx, unit))"
   ]
  },
  {
   "cell_type": "code",
   "execution_count": 2,
   "metadata": {
    "colab": {},
    "colab_type": "code",
    "id": "kHJpxZAfWt06"
   },
   "outputs": [],
   "source": [
    "import numpy as np\n",
    "from numpy.linalg import inv\n",
    "import math\n",
    "\n",
    "def LESA(A,L, p=None, px=None, unit=None):\n",
    "    m,n=A.shape\n",
    "    #print(m,n)\n",
    "\n",
    "    #% 若未賦予權值，以等權計算\n",
    "    if p is None:\n",
    "        P=np.diag(np.ones(m),0)\n",
    "    else:\n",
    "        P=np.diag(p)  \n",
    "\n",
    "    #% 未知數的答解 \n",
    "    #% 法方程式之反矩陣\n",
    "    # N=A'*P*A;\n",
    "    N=np.dot(A.T,P)\n",
    "    N=np.dot(N,A)\n",
    "\n",
    "    #% 如果有提供未知數加權參數\n",
    "    if px is not None:\n",
    "        px=diag(px)\n",
    "        N=N+px\n",
    "\n",
    "    # %N_inv=inv(N);\n",
    "    # U=A'*P*L;\n",
    "    U=np.dot(A.T,P)\n",
    "    U=np.dot(U,L)\n",
    "\n",
    "    N_inv=inv(N)\n",
    "    X=np.dot(N_inv,U)\n",
    "\n",
    "    #% 誤差分析\n",
    "    #  V=A*X-L;\n",
    "    V=np.dot(A,X)-L\n",
    "\n",
    "    #%單位權標準誤差   \n",
    "    #sigma0=sqrt((V'*P*V)./(m-n));\n",
    "    q=np.dot(V.T,P)\n",
    "    q=np.dot(q,V)\n",
    "    sigma0=math.sqrt(q/(m-n))\n",
    "\n",
    "    #%未知數精度矩陣\n",
    "    DX=N_inv*(sigma0**2)\n",
    "    sX=np.diag(DX)**0.5\n",
    "\n",
    "    #%觀測量精度分析   \n",
    "    DL=np.dot(A,N_inv)\n",
    "    DL=sigma0**2*np.dot(DL,A.T)\n",
    "    sL=(np.diag(DL))**0.5\n",
    "\n",
    "    return X, V, sigma0, DX, sL, P, N, U"
   ]
  },
  {
   "cell_type": "code",
   "execution_count": 3,
   "metadata": {},
   "outputs": [],
   "source": [
    "def LESA_Print(A,L, X, V, sigma0, DX, sL, P, N, U):\n",
    "    print('***** 最小二乘法計算模組報表 *****')\n",
    "    \n",
    "    Matrix_print(A,'設計矩陣A')\n",
    "    Matrix_print(L,'觀測矩陣L')\n",
    "    \n",
    "    Matrix_print(P,'加權矩陣P')\n",
    "    Matrix_print(N,'法方程式 N矩陣')\n",
    "    Matrix_print(U,'法方程式 U矩陣')\n",
    "    Matrix_print(X,'未知數X')\n",
    "    Matrix_print(V,'誤差矩陣V')\n",
    "\n",
    "    print('\\n單位權標準誤差：+/- %.4f'%(sigma0) )\n",
    "\n",
    "    sX=np.diag(DX)**0.5\n",
    "    Matrix_print2(X,sX,'未知數及精度分析',unit='m')\n",
    "    Matrix_print(sL,'觀測量精度矩陣')"
   ]
  },
  {
   "cell_type": "markdown",
   "metadata": {
    "colab_type": "text",
    "id": "WeCzk_gRTqSB"
   },
   "source": [
    "# Wolf 課本12.3 未加權範例\n"
   ]
  },
  {
   "cell_type": "code",
   "execution_count": 4,
   "metadata": {
    "colab": {},
    "colab_type": "code",
    "id": "DdHSrVFjOFPM"
   },
   "outputs": [],
   "source": [
    "A=np.array([\n",
    "   [1,   0,   0],\n",
    "   [-1,  0,   0],\n",
    "   [0,   0,   1],\n",
    "   [0,   0,  -1],\n",
    "   [-1,  1,   0],\n",
    "   [0,   1,   0],\n",
    "   [0,  -1,   1]\n",
    "])\n",
    "\n",
    "B=np.array([\n",
    "   -100.00,\n",
    "    107.50,\n",
    "   -107.50,\n",
    "    100.00,\n",
    "      0.00,\n",
    "   -107.50,\n",
    "      0.00\n",
    "])\n",
    "\n",
    "L=np.array([\n",
    "      5.10,\n",
    "      2.34,\n",
    "     -1.25,\n",
    "     -6.13,\n",
    "     -0.68,\n",
    "     -3.00,\n",
    "      1.70\n",
    "])\n",
    "L=L-B\n",
    "L=L.T"
   ]
  },
  {
   "cell_type": "code",
   "execution_count": 5,
   "metadata": {
    "colab": {
     "base_uri": "https://localhost:8080/",
     "height": 1000
    },
    "colab_type": "code",
    "executionInfo": {
     "elapsed": 1148,
     "status": "ok",
     "timestamp": 1571494852483,
     "user": {
      "displayName": "Geodesy CNU",
      "photoUrl": "",
      "userId": "05784265120908310594"
     },
     "user_tz": -480
    },
    "id": "b7nwdSEsUe-d",
    "outputId": "3d6bdcd0-6338-408e-90b8-ab2cb4f087f1"
   },
   "outputs": [
    {
     "name": "stdout",
     "output_type": "stream",
     "text": [
      "***** 最小二乘法計算模組報表 *****\n",
      "\n",
      "設計矩陣A\n",
      "[[ 1  0  0]\n",
      " [-1  0  0]\n",
      " [ 0  0  1]\n",
      " [ 0  0 -1]\n",
      " [-1  1  0]\n",
      " [ 0  1  0]\n",
      " [ 0 -1  1]]\n",
      "\n",
      "觀測矩陣L\n",
      "  105.1000\n",
      " -105.1600\n",
      "  106.2500\n",
      " -106.1300\n",
      "   -0.6800\n",
      "  104.5000\n",
      "    1.7000\n",
      "\n",
      "加權矩陣P\n",
      "[[1. 0. 0. 0. 0. 0. 0.]\n",
      " [0. 1. 0. 0. 0. 0. 0.]\n",
      " [0. 0. 1. 0. 0. 0. 0.]\n",
      " [0. 0. 0. 1. 0. 0. 0.]\n",
      " [0. 0. 0. 0. 1. 0. 0.]\n",
      " [0. 0. 0. 0. 0. 1. 0.]\n",
      " [0. 0. 0. 0. 0. 0. 1.]]\n",
      "\n",
      "法方程式 N矩陣\n",
      "[[ 3. -1.  0.]\n",
      " [-1.  3. -1.]\n",
      " [ 0. -1.  3.]]\n",
      "\n",
      "法方程式 U矩陣\n",
      "  210.9400\n",
      "  102.1200\n",
      "  214.0800\n",
      "\n",
      "未知數X\n",
      "  105.1410\n",
      "  104.4829\n",
      "  106.1876\n",
      "\n",
      "誤差矩陣V\n",
      "    0.0410\n",
      "    0.0190\n",
      "   -0.0624\n",
      "   -0.0576\n",
      "    0.0219\n",
      "   -0.0171\n",
      "    0.0048\n",
      "\n",
      "單位權標準誤差：+/- 0.0501\n",
      "\n",
      "未知數及精度分析\n",
      "105.1410m +/- 0.0309 (m)\n",
      "104.4829m +/- 0.0328 (m)\n",
      "106.1876m +/- 0.0309 (m)\n",
      "\n",
      "觀測量精度矩陣\n",
      "    0.0309\n",
      "    0.0309\n",
      "    0.0309\n",
      "    0.0309\n",
      "    0.0363\n",
      "    0.0328\n",
      "    0.0363\n"
     ]
    }
   ],
   "source": [
    "# 無加權矩陣\n",
    "X, V, sigma0, DX, sL, P, N, U=LESA(A,L,unit='m')\n",
    "LESA_Print(A,L, X, V, sigma0, DX, sL, P, N, U)"
   ]
  },
  {
   "cell_type": "markdown",
   "metadata": {
    "colab_type": "text",
    "id": "oJcErvTXWrZM"
   },
   "source": [
    "# Wolf 課本12.4 加權範例"
   ]
  },
  {
   "cell_type": "code",
   "execution_count": 6,
   "metadata": {
    "colab": {
     "base_uri": "https://localhost:8080/",
     "height": 1000
    },
    "colab_type": "code",
    "executionInfo": {
     "elapsed": 680,
     "status": "ok",
     "timestamp": 1571495008477,
     "user": {
      "displayName": "Geodesy CNU",
      "photoUrl": "",
      "userId": "05784265120908310594"
     },
     "user_tz": -480
    },
    "id": "I40LvlBoVyOD",
    "outputId": "776a74cf-8b0b-4746-e5df-6780aa9b7256"
   },
   "outputs": [
    {
     "name": "stdout",
     "output_type": "stream",
     "text": [
      "***** 最小二乘法計算模組報表 *****\n",
      "\n",
      "設計矩陣A\n",
      "[[ 1  0  0]\n",
      " [-1  0  0]\n",
      " [ 0  0  1]\n",
      " [ 0  0 -1]\n",
      " [-1  1  0]\n",
      " [ 0  1  0]\n",
      " [ 0 -1  1]]\n",
      "\n",
      "觀測矩陣L\n",
      "  105.1000\n",
      " -105.1600\n",
      "  106.2500\n",
      " -106.1300\n",
      "   -0.6800\n",
      "  104.5000\n",
      "    1.7000\n",
      "\n",
      "加權矩陣P\n",
      "[[3 0 0 0 0 0 0]\n",
      " [0 4 0 0 0 0 0]\n",
      " [0 0 6 0 0 0 0]\n",
      " [0 0 0 4 0 0 0]\n",
      " [0 0 0 0 6 0 0]\n",
      " [0 0 0 0 0 6 0]\n",
      " [0 0 0 0 0 0 6]]\n",
      "\n",
      "法方程式 N矩陣\n",
      "[[13 -6  0]\n",
      " [-6 18 -6]\n",
      " [ 0 -6 16]]\n",
      "\n",
      "法方程式 U矩陣\n",
      "  740.0200\n",
      "  612.7200\n",
      " 1072.2200\n",
      "\n",
      "未知數X\n",
      "  105.1504\n",
      "  104.4892\n",
      "  106.1972\n",
      "\n",
      "誤差矩陣V\n",
      "    0.0504\n",
      "    0.0096\n",
      "   -0.0528\n",
      "   -0.0672\n",
      "    0.0188\n",
      "   -0.0108\n",
      "    0.0080\n",
      "\n",
      "單位權標準誤差：+/- 0.1072\n",
      "\n",
      "未知數及精度分析\n",
      "105.1504m +/- 0.0328 (m)\n",
      "104.4892m +/- 0.0298 (m)\n",
      "106.1972m +/- 0.0290 (m)\n",
      "\n",
      "觀測量精度矩陣\n",
      "    0.0328\n",
      "    0.0328\n",
      "    0.0290\n",
      "    0.0290\n",
      "    0.0338\n",
      "    0.0298\n",
      "    0.0326\n"
     ]
    }
   ],
   "source": [
    "# 指定加權矩陣的使用方法\n",
    "w=np.array([3,4,6,4,6,6,6])\n",
    "X, V, sigma0, DX, sL, P, N, U=LESA(A,L,p=w,unit='m')\n",
    "LESA_Print(A,L, X, V, sigma0, DX, sL, P, N, U)"
   ]
  },
  {
   "cell_type": "markdown",
   "metadata": {
    "colab_type": "text",
    "id": "Ub1k9elsbLmT"
   },
   "source": [
    "# Wold課本12.6範例"
   ]
  },
  {
   "cell_type": "code",
   "execution_count": 7,
   "metadata": {
    "colab": {},
    "colab_type": "code",
    "id": "Vt8ImvLCbP9c"
   },
   "outputs": [],
   "source": [
    "A=np.array([\n",
    "   [1,   0,   0],\n",
    "   [-1,  1,   0],\n",
    "   [0,  -1,   1],\n",
    "   [0,   0,  -1],\n",
    "   [-1,  0,   1],\n",
    "   [0,   1,   0]\n",
    "])\n",
    "\n",
    "L=np.array([\n",
    "    448.105,\n",
    "      5.360,\n",
    "     -8.523,\n",
    "   -444.944,\n",
    "     -3.167,\n",
    "    453.477\n",
    "])\n",
    "\n",
    "L=L.T"
   ]
  },
  {
   "cell_type": "code",
   "execution_count": 8,
   "metadata": {
    "colab": {
     "base_uri": "https://localhost:8080/",
     "height": 1000
    },
    "colab_type": "code",
    "executionInfo": {
     "elapsed": 1206,
     "status": "ok",
     "timestamp": 1571495802807,
     "user": {
      "displayName": "Geodesy CNU",
      "photoUrl": "",
      "userId": "05784265120908310594"
     },
     "user_tz": -480
    },
    "id": "wp_5QWb_b55v",
    "outputId": "440a4108-f70e-4a11-8b74-f196045cf972"
   },
   "outputs": [
    {
     "name": "stdout",
     "output_type": "stream",
     "text": [
      "***** 最小二乘法計算模組報表 *****\n",
      "\n",
      "設計矩陣A\n",
      "[[ 1  0  0]\n",
      " [-1  1  0]\n",
      " [ 0 -1  1]\n",
      " [ 0  0 -1]\n",
      " [-1  0  1]\n",
      " [ 0  1  0]]\n",
      "\n",
      "觀測矩陣L\n",
      "  448.1050\n",
      "    5.3600\n",
      "   -8.5230\n",
      " -444.9440\n",
      "   -3.1670\n",
      "  453.4770\n",
      "\n",
      "加權矩陣P\n",
      "[[ 27777.77777778      0.              0.              0.\n",
      "       0.              0.        ]\n",
      " [     0.          62500.              0.              0.\n",
      "       0.              0.        ]\n",
      " [     0.              0.          40000.              0.\n",
      "       0.              0.        ]\n",
      " [     0.              0.              0.         111111.11111111\n",
      "       0.              0.        ]\n",
      " [     0.              0.              0.              0.\n",
      "   62500.              0.        ]\n",
      " [     0.              0.              0.              0.\n",
      "       0.           6944.44444444]]\n",
      "\n",
      "法方程式 N矩陣\n",
      "[[152777.77777778 -62500.         -62500.        ]\n",
      " [-62500.         109444.44444444 -40000.        ]\n",
      " [-62500.         -40000.         213611.11111111]]\n",
      "\n",
      "法方程式 U矩陣\n",
      "12310298.6111\n",
      "3825065.8333\n",
      "48899364.7222\n",
      "\n",
      "未知數X\n",
      "  448.1087\n",
      "  453.4685\n",
      "  444.9436\n",
      "\n",
      "誤差矩陣V\n",
      "    0.0037\n",
      "   -0.0002\n",
      "   -0.0019\n",
      "    0.0004\n",
      "    0.0019\n",
      "   -0.0085\n",
      "\n",
      "單位權標準誤差：+/- 0.6512\n",
      "\n",
      "未知數及精度分析\n",
      "448.1087m +/- 0.0023 (m)\n",
      "453.4685m +/- 0.0026 (m)\n",
      "444.9436m +/- 0.0018 (m)\n",
      "\n",
      "觀測量精度矩陣\n",
      "    0.0023\n",
      "    0.0021\n",
      "    0.0023\n",
      "    0.0018\n",
      "    0.0020\n",
      "    0.0026\n"
     ]
    }
   ],
   "source": [
    "# 加權矩陣\n",
    "s=np.array([0.006,0.004,0.005,0.003,0.004,0.012])\n",
    "w=1/(s*s)\n",
    "X, V, sigma0, DX, sL, P, N, U=LESA(A,L,p=w,unit='m')\n",
    "LESA_Print(A,L, X, V, sigma0, DX, sL, P, N, U)"
   ]
  },
  {
   "cell_type": "code",
   "execution_count": 0,
   "metadata": {
    "colab": {},
    "colab_type": "code",
    "id": "WuImSHXBci-Z"
   },
   "outputs": [],
   "source": []
  }
 ],
 "metadata": {
  "colab": {
   "collapsed_sections": [],
   "name": "Wolf_level_net.ipynb",
   "provenance": [
    {
     "file_id": "1lI3QT5UZHwWNlLwEXrOOI-12QiYbHS-K",
     "timestamp": 1571494605341
    }
   ]
  },
  "kernelspec": {
   "display_name": "Python 3",
   "language": "python",
   "name": "python3"
  },
  "language_info": {
   "codemirror_mode": {
    "name": "ipython",
    "version": 3
   },
   "file_extension": ".py",
   "mimetype": "text/x-python",
   "name": "python",
   "nbconvert_exporter": "python",
   "pygments_lexer": "ipython3",
   "version": "3.6.6"
  }
 },
 "nbformat": 4,
 "nbformat_minor": 1
}
