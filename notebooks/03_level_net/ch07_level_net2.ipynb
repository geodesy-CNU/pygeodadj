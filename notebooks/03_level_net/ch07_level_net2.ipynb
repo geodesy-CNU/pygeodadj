{
 "cells": [
  {
   "cell_type": "markdown",
   "metadata": {
    "colab_type": "text",
    "id": "8ilwUYr1WgHM"
   },
   "source": [
    "# Level Net\n",
    "## 間接觀測平差\n",
    "所謂間接觀測(Indirect Observation)，是指測量結果(未知參數)並非直接測定，而是經由兩個或兩個以上的觀測量依其相應的函數關係間接計算而得者，例如極坐標法的平面位置定位，是由觀測的距離與方位角，再經由三角函數計算得到。\n",
    "\n",
    "將每一個觀測量都建立成未知數的函數，並在多餘觀測的基礎上，由觀測量建構觀測方程式，利用最小二乘法對未知參數進行最或是值解的統計推估(平差求解)，同時由平差後改正數進行精度(誤差)分析，以暸解觀測與成果之品質。\n"
   ]
  },
  {
   "cell_type": "markdown",
   "metadata": {
    "colab_type": "text",
    "id": "71irBR9iWtln"
   },
   "source": [
    "\n",
    "## Python 最小二乘法模組\n",
    "<hr>\n",
    "\n",
    "### 輸入參數：\n",
    "* A:      設計矩陣\n",
    "* L:      觀測矩陣\n",
    "* p:      賦予權值向量   (選項)\n",
    "* px:     未知數加權矩陣 (選項)\n",
    "* unit:   未知數單位表示 (選項)\n",
    "\n",
    "<hr>\n",
    "\n",
    "### 輸出參數\n",
    "* X:      未知數\n",
    "* V:      誤差矩陣\n",
    "* sigma0: 單位權標準誤差\n",
    "* DX:     未知數精度矩陣\n",
    "* sL:     未知數標準誤差\n",
    "* P:      加權矩陣\n",
    "\n",
    "<hr>\n",
    "* 嘉南藥理大學測量製圖學分班\n",
    "\n",
    "* 作者：  M.J. Huang\n",
    "* email: geodesy.cnu@gmail.com\n",
    "\n",
    "<hr>\n",
    "\n"
   ]
  },
  {
   "cell_type": "markdown",
   "metadata": {
    "colab_type": "text",
    "id": "-1LnKxDrXyzN"
   },
   "source": [
    "# 直接水準平差範例\n",
    "<img src=\"https://drive.google.com/uc?id=14hJ1Z9pltYwGYfu78ZspdBt2F_dVcBHi\">\n",
    "<img src=\"https://drive.google.com/uc?id=1TUDLP-adH8fj8gCHIh4o4HQqfedosDKf\">"
   ]
  },
  {
   "cell_type": "code",
   "execution_count": 1,
   "metadata": {
    "colab": {},
    "colab_type": "code",
    "id": "u7b3d3XuXzcC"
   },
   "outputs": [
    {
     "name": "stdout",
     "output_type": "stream",
     "text": [
      "***** 最小二乘法計算模組報表 *****\n",
      "\n",
      "設計矩陣A\n",
      "[[ 1  0  0]\n",
      " [-1  0  0]\n",
      " [ 0  0  1]\n",
      " [ 0  0 -1]\n",
      " [-1  1  0]\n",
      " [ 0  1  0]\n",
      " [ 0 -1  1]]\n",
      "\n",
      "觀測矩陣L\n",
      "  105.1000\n",
      " -105.1600\n",
      "  106.2500\n",
      " -106.1300\n",
      "   -0.6800\n",
      "  104.5000\n",
      "    1.7000\n",
      "\n",
      "加權矩陣P\n",
      "[[1. 0. 0. 0. 0. 0. 0.]\n",
      " [0. 1. 0. 0. 0. 0. 0.]\n",
      " [0. 0. 1. 0. 0. 0. 0.]\n",
      " [0. 0. 0. 1. 0. 0. 0.]\n",
      " [0. 0. 0. 0. 1. 0. 0.]\n",
      " [0. 0. 0. 0. 0. 1. 0.]\n",
      " [0. 0. 0. 0. 0. 0. 1.]]\n",
      "\n",
      "法方程式 N矩陣\n",
      "[[ 3. -1.  0.]\n",
      " [-1.  3. -1.]\n",
      " [ 0. -1.  3.]]\n",
      "\n",
      "法方程式 U矩陣\n",
      "  210.9400\n",
      "  102.1200\n",
      "  214.0800\n",
      "\n",
      "未知數X\n",
      "  105.1410\n",
      "  104.4829\n",
      "  106.1876\n",
      "\n",
      "誤差矩陣V\n",
      "    0.0410\n",
      "    0.0190\n",
      "   -0.0624\n",
      "   -0.0576\n",
      "    0.0219\n",
      "   -0.0171\n",
      "    0.0048\n",
      "\n",
      "單位權標準誤差：+/- 0.0501\n",
      "\n",
      "未知數及精度分析\n",
      "105.1410m +/- 0.0309 (m)\n",
      "104.4829m +/- 0.0328 (m)\n",
      "106.1876m +/- 0.0309 (m)\n",
      "\n",
      "觀測量精度矩陣\n",
      "    0.0309\n",
      "    0.0309\n",
      "    0.0309\n",
      "    0.0309\n",
      "    0.0363\n",
      "    0.0328\n",
      "    0.0363\n"
     ]
    }
   ],
   "source": [
    "# 匯入最小二乘平差法套件\n",
    "from pygeodadj.LSEA import LESA\n",
    "from pygeodadj.LSEA import LESA_Print\n",
    "\n",
    "import numpy as np\n",
    "\n",
    "A=np.array([\n",
    "   [1,   0,   0],\n",
    "   [-1,  0,   0],\n",
    "   [0,   0,   1],\n",
    "   [0,   0,  -1],\n",
    "   [-1,  1,   0],\n",
    "   [0,   1,   0],\n",
    "   [0,  -1,   1]\n",
    "])\n",
    "\n",
    "L=np.array([\n",
    "    105.1,\n",
    "   -105.16,\n",
    "    106.25,\n",
    "   -106.13,\n",
    "     -0.68,\n",
    "    104.5,\n",
    "      1.7\n",
    "])\n",
    "L=L.T\n",
    "# 無加權矩陣\n",
    "X, V, sigma0, DX, sL, P, N, U=LESA(A,L,unit='m')\n",
    "LESA_Print(A,L, X, V, sigma0, DX, sL, P, N, U)"
   ]
  },
  {
   "cell_type": "markdown",
   "metadata": {
    "colab_type": "text",
    "id": "zpCBfhZUTRh2"
   },
   "source": [
    "<img src=\"https://drive.google.com/uc?id=10-LDIQBmsTNrH_0T3LR4sf4HtzPRXBPN\">"
   ]
  },
  {
   "cell_type": "markdown",
   "metadata": {
    "colab_type": "text",
    "id": "vwOVm_z_M48F"
   },
   "source": [
    "# 直接水準平差範例\n",
    "<img src=\"https://drive.google.com/uc?id=11PpwvtQ6LHz3fosO9hd6JroLIkrCJMMR\">"
   ]
  },
  {
   "cell_type": "code",
   "execution_count": 2,
   "metadata": {
    "colab": {},
    "colab_type": "code",
    "id": "EHsFwAo0Z4Yn"
   },
   "outputs": [
    {
     "name": "stdout",
     "output_type": "stream",
     "text": [
      "***** 最小二乘法計算模組報表 *****\n",
      "\n",
      "設計矩陣A\n",
      "[[ 1  0  0]\n",
      " [-1  1  0]\n",
      " [ 0 -1  0]\n",
      " [ 0  0 -1]\n",
      " [-1  0  1]\n",
      " [ 0 -1  1]]\n",
      "\n",
      "觀測矩陣L\n",
      "   25.0210\n",
      "    5.0120\n",
      "  -29.9810\n",
      "  -40.0200\n",
      "   14.9900\n",
      "   10.0140\n",
      "\n",
      "加權矩陣P\n",
      "[[3 0 0 0 0 0]\n",
      " [0 2 0 0 0 0]\n",
      " [0 0 2 0 0 0]\n",
      " [0 0 0 3 0 0]\n",
      " [0 0 0 0 3 0]\n",
      " [0 0 0 0 0 6]]\n",
      "\n",
      "法方程式 N矩陣\n",
      "[[ 8 -2 -3]\n",
      " [-2 10 -6]\n",
      " [-3 -6 12]]\n",
      "\n",
      "法方程式 U矩陣\n",
      "   20.0690\n",
      "    9.9020\n",
      "  225.1140\n",
      "\n",
      "未知數X\n",
      "   25.0140\n",
      "   30.0011\n",
      "   40.0136\n",
      "\n",
      "誤差矩陣V\n",
      "   -0.0070\n",
      "   -0.0249\n",
      "   -0.0201\n",
      "    0.0064\n",
      "    0.0096\n",
      "   -0.0016\n",
      "\n",
      "單位權標準誤差：+/- 0.0295\n",
      "\n",
      "未知數及精度分析\n",
      "25.0140m +/- 0.0126 (m)\n",
      "30.0011m +/- 0.0128 (m)\n",
      "40.0136m +/- 0.0120 (m)\n",
      "\n",
      "觀測量精度矩陣\n",
      "    0.0126\n",
      "    0.0128\n",
      "    0.0128\n",
      "    0.0120\n",
      "    0.0120\n",
      "    0.0102\n"
     ]
    }
   ],
   "source": [
    "# 指定加權矩陣的使用方法\n",
    "A=np.array([\n",
    "   [1,   0,   0],\n",
    "   [-1,  1,   0],\n",
    "   [0,  -1,   0],\n",
    "   [0,   0,  -1],\n",
    "   [-1,  0,   1],\n",
    "   [0,  -1,   1]\n",
    "])\n",
    "\n",
    "L=np.array([\n",
    "    25.021,\n",
    "     5.012,\n",
    "   -29.981,\n",
    "   -40.020,\n",
    "    14.990,\n",
    "    10.014\n",
    "])\n",
    "L=L.T\n",
    "\n",
    "w=np.array([3,2,2,3,3,6])\n",
    "X, V, sigma0, DX, sL, P, N, U=LESA(A,L,p=w,unit='m')\n",
    "LESA_Print(A,L, X, V, sigma0, DX, sL, P, N, U)"
   ]
  },
  {
   "cell_type": "code",
   "execution_count": null,
   "metadata": {},
   "outputs": [],
   "source": []
  }
 ],
 "metadata": {
  "colab": {
   "collapsed_sections": [],
   "name": "ch07_level_net2.ipynb",
   "provenance": []
  },
  "kernelspec": {
   "display_name": "Python 3",
   "language": "python",
   "name": "python3"
  },
  "language_info": {
   "codemirror_mode": {
    "name": "ipython",
    "version": 3
   },
   "file_extension": ".py",
   "mimetype": "text/x-python",
   "name": "python",
   "nbconvert_exporter": "python",
   "pygments_lexer": "ipython3",
   "version": "3.7.3"
  }
 },
 "nbformat": 4,
 "nbformat_minor": 1
}
