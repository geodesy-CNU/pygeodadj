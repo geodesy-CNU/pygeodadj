{
  "nbformat": 4,
  "nbformat_minor": 0,
  "metadata": {
    "colab": {
      "name": "ch01_03_azdis_pos_CNU.ipynb",
      "provenance": [],
      "collapsed_sections": []
    },
    "kernelspec": {
      "display_name": "Python 3",
      "language": "python",
      "name": "python3"
    },
    "language_info": {
      "codemirror_mode": {
        "name": "ipython",
        "version": 3
      },
      "file_extension": ".py",
      "mimetype": "text/x-python",
      "name": "python",
      "nbconvert_exporter": "python",
      "pygments_lexer": "ipython3",
      "version": "3.7.3"
    }
  },
  "cells": [
    {
      "cell_type": "markdown",
      "metadata": {
        "colab_type": "text",
        "id": "3VIb0IDIzs_r"
      },
      "source": [
        "# 誤差理論與測量平差課程輔助程式\n",
        "## 作者：黃明哲博士 (geodesy.cnu@gmail.com)\n",
        "#### ch01_03_azdis_pos_CNU.ipynb\n",
        "#### 平面點基本定位方法 (方位角+距離) 極坐標法 (光線法) 範例\n",
        "#### 嘉南藥理大學校區測量實際案例\n",
        "\n",
        "<img src=\"https://drive.google.com/uc?id=13Q_PTnPRf47xzE-QH6-Zj5cinVH6lcNz\">\n",
        "\n",
        "\n",
        "程式操作方法：\n",
        "開啟本記事簿，輸入觀測點座標、原方向參考座標，<br />\n",
        "點位號碼、觀測的距離、從參考原方向的方向角\n",
        "\n",
        "即可獲得各點位的座標"
      ]
    },
    {
      "cell_type": "code",
      "metadata": {
        "id": "8vXKMc-tXHsW",
        "colab_type": "code",
        "outputId": "697afc0f-cef0-48a3-ba83-4384db3f4cad",
        "colab": {
          "base_uri": "https://localhost:8080/",
          "height": 34
        }
      },
      "source": [
        "!git clone https://github.com/geodesy-CNU/pygeodadj.git"
      ],
      "execution_count": 14,
      "outputs": [
        {
          "output_type": "stream",
          "text": [
            "fatal: destination path 'pygeodadj' already exists and is not an empty directory.\n"
          ],
          "name": "stdout"
        }
      ]
    },
    {
      "cell_type": "code",
      "metadata": {
        "id": "cTBHhrBxXMAx",
        "colab_type": "code",
        "outputId": "6cd77f50-d82b-4da6-83e9-9d6d948c1e3c",
        "colab": {
          "base_uri": "https://localhost:8080/",
          "height": 34
        }
      },
      "source": [
        "!ls pygeodadj"
      ],
      "execution_count": 15,
      "outputs": [
        {
          "output_type": "stream",
          "text": [
            "gnssnet  LSEA  notebooks  README.md  utils\n"
          ],
          "name": "stdout"
        }
      ]
    },
    {
      "cell_type": "code",
      "metadata": {
        "colab_type": "code",
        "id": "fjbbVnnb0Fov",
        "colab": {}
      },
      "source": [
        "%matplotlib inline\n",
        "\n",
        "from pygeodadj.utils.adj_utils import azdis\n",
        "from pygeodadj.utils.adj_utils import plot_azdis\n",
        "from pygeodadj.utils.adj_utils import azdis_compute\n",
        "from pygeodadj.utils.adj_utils import plot_azdis_pos\n",
        "from pygeodadj.utils.adj_utils import dms2d\n",
        "from pygeodadj.utils.adj_utils import azdis_pos_df"
      ],
      "execution_count": 0,
      "outputs": []
    },
    {
      "cell_type": "markdown",
      "metadata": {
        "colab_type": "text",
        "id": "UfMZAB5kpJtx"
      },
      "source": [
        "## 嘉南藥理大學案例，產生Shape file\n",
        "## 嘉南藥理大學校內控制點配置圖\n",
        "<img src=\"https://drive.google.com/uc?id=14ypUYV6OAOsw1Zhhmusu5l0UHpWgfoX0\">\n"
      ]
    },
    {
      "cell_type": "code",
      "metadata": {
        "id": "sXrH7277-INz",
        "colab_type": "code",
        "colab": {
          "base_uri": "https://localhost:8080/",
          "height": 119
        },
        "outputId": "c9969cc7-210a-44bf-f084-989e1b90eb8b"
      },
      "source": [
        "!cat pygeodadj/notebooks/02_azdis_pos/azdis_pos_cnu.txt"
      ],
      "execution_count": 16,
      "outputs": [
        {
          "output_type": "stream",
          "text": [
            "PtName,deg,min,sec,dist,xp,yp\n",
            "obs, 0,0,0,0,170559.45, 2535801.064\n",
            "ref, 0,0,0,0,170727.663, 2535774.677\n",
            " pt_1, 10,23,10,95.50,0.0,0.0\n",
            " pt_2, 32,45,30,120.53,0.0,0.0\n",
            " pt_3, 348,45,30,157.53,0.0,0.0"
          ],
          "name": "stdout"
        }
      ]
    },
    {
      "cell_type": "code",
      "metadata": {
        "colab_type": "code",
        "id": "gfChhBGMsFaj",
        "outputId": "a6cda9c7-e148-4588-a87d-9c66af077d80",
        "colab": {
          "base_uri": "https://localhost:8080/",
          "height": 204
        }
      },
      "source": [
        "# test data\n",
        "data_dir='pygeodadj/notebooks/02_azdis_pos/'\n",
        "#data_dir='drive/My Drive/Colab Notebooks/courses/Lab4_Adjustment/'\n",
        "path=data_dir+'azdis_pos_cnu.txt'\n",
        "   \n",
        "df=azdis_pos_df(path)\n",
        "df.head()"
      ],
      "execution_count": 17,
      "outputs": [
        {
          "output_type": "execute_result",
          "data": {
            "text/html": [
              "<div>\n",
              "<style scoped>\n",
              "    .dataframe tbody tr th:only-of-type {\n",
              "        vertical-align: middle;\n",
              "    }\n",
              "\n",
              "    .dataframe tbody tr th {\n",
              "        vertical-align: top;\n",
              "    }\n",
              "\n",
              "    .dataframe thead th {\n",
              "        text-align: right;\n",
              "    }\n",
              "</style>\n",
              "<table border=\"1\" class=\"dataframe\">\n",
              "  <thead>\n",
              "    <tr style=\"text-align: right;\">\n",
              "      <th></th>\n",
              "      <th>PtName</th>\n",
              "      <th>deg</th>\n",
              "      <th>min</th>\n",
              "      <th>sec</th>\n",
              "      <th>dist</th>\n",
              "      <th>xp</th>\n",
              "      <th>yp</th>\n",
              "    </tr>\n",
              "  </thead>\n",
              "  <tbody>\n",
              "    <tr>\n",
              "      <th>0</th>\n",
              "      <td>obs</td>\n",
              "      <td>0</td>\n",
              "      <td>0</td>\n",
              "      <td>0.000000</td>\n",
              "      <td>0.000000</td>\n",
              "      <td>170559.450000</td>\n",
              "      <td>2.535801e+06</td>\n",
              "    </tr>\n",
              "    <tr>\n",
              "      <th>1</th>\n",
              "      <td>ref</td>\n",
              "      <td>98</td>\n",
              "      <td>54</td>\n",
              "      <td>54.511514</td>\n",
              "      <td>170.270042</td>\n",
              "      <td>170727.663000</td>\n",
              "      <td>2.535775e+06</td>\n",
              "    </tr>\n",
              "    <tr>\n",
              "      <th>2</th>\n",
              "      <td>pt_1</td>\n",
              "      <td>10</td>\n",
              "      <td>23</td>\n",
              "      <td>10.000000</td>\n",
              "      <td>95.500000</td>\n",
              "      <td>170649.582300</td>\n",
              "      <td>2.535769e+06</td>\n",
              "    </tr>\n",
              "    <tr>\n",
              "      <th>3</th>\n",
              "      <td>pt_2</td>\n",
              "      <td>32</td>\n",
              "      <td>45</td>\n",
              "      <td>30.000000</td>\n",
              "      <td>120.530000</td>\n",
              "      <td>170649.479409</td>\n",
              "      <td>2.535721e+06</td>\n",
              "    </tr>\n",
              "    <tr>\n",
              "      <th>4</th>\n",
              "      <td>pt_3</td>\n",
              "      <td>348</td>\n",
              "      <td>45</td>\n",
              "      <td>30.000000</td>\n",
              "      <td>157.530000</td>\n",
              "      <td>170716.850149</td>\n",
              "      <td>2.535807e+06</td>\n",
              "    </tr>\n",
              "  </tbody>\n",
              "</table>\n",
              "</div>"
            ],
            "text/plain": [
              "  PtName  deg  min        sec        dist             xp            yp\n",
              "0    obs    0    0   0.000000    0.000000  170559.450000  2.535801e+06\n",
              "1    ref   98   54  54.511514  170.270042  170727.663000  2.535775e+06\n",
              "2   pt_1   10   23  10.000000   95.500000  170649.582300  2.535769e+06\n",
              "3   pt_2   32   45  30.000000  120.530000  170649.479409  2.535721e+06\n",
              "4   pt_3  348   45  30.000000  157.530000  170716.850149  2.535807e+06"
            ]
          },
          "metadata": {
            "tags": []
          },
          "execution_count": 17
        }
      ]
    },
    {
      "cell_type": "code",
      "metadata": {
        "id": "P5zGvWVuVCX4",
        "colab_type": "code",
        "outputId": "6a7740f4-0933-46c0-db08-5fd05825c612",
        "colab": {
          "base_uri": "https://localhost:8080/",
          "height": 85
        }
      },
      "source": [
        "#顯示計算結果 \n",
        "obs=df.loc[0]\n",
        "xa=obs['xp']\n",
        "ya=obs['yp']\n",
        "\n",
        "ref=df.loc[1]\n",
        "xb=ref['xp']\n",
        "yb=ref['yp']\n",
        "dis=ref['dist']\n",
        "deg=ref['deg']\n",
        "mm=ref['min']\n",
        "sec=ref['sec']\n",
        "\n",
        "print(\"觀測點：\\t%.3f %.3f\"%(xa,ya))\n",
        "print(\"參考點：\\t%.3f %.3f\"%(xb,yb))\n",
        "print(\"距離:\\t %.3fm\"%(dis))\n",
        "print(\"參考方位： %3.3d度 %2.2d分%.2f秒\"%(deg,mm,sec))"
      ],
      "execution_count": 18,
      "outputs": [
        {
          "output_type": "stream",
          "text": [
            "觀測點：\t170559.450 2535801.064\n",
            "參考點：\t170727.663 2535774.677\n",
            "距離:\t 170.270m\n",
            "參考方位： 098度 54分54.51秒\n"
          ],
          "name": "stdout"
        }
      ]
    },
    {
      "cell_type": "markdown",
      "metadata": {
        "colab_type": "text",
        "id": "waWz2XFCHITF"
      },
      "source": [
        "## 計算完的座標，可以產生圖檔嗎?\n",
        "How about ESRI Shape file?"
      ]
    },
    {
      "cell_type": "code",
      "metadata": {
        "id": "Mh-qWS6thkg_",
        "colab_type": "code",
        "outputId": "037b10d5-c5dc-44d5-80e1-a3972bf10a57",
        "colab": {
          "base_uri": "https://localhost:8080/",
          "height": 442
        }
      },
      "source": [
        "!pip install geopandas"
      ],
      "execution_count": 8,
      "outputs": [
        {
          "output_type": "stream",
          "text": [
            "Collecting geopandas\n",
            "\u001b[?25l  Downloading https://files.pythonhosted.org/packages/5b/0c/e6c99e561b03482220f00443f610ccf4dce9b50f4b1093d735f93c6fc8c6/geopandas-0.6.2-py2.py3-none-any.whl (919kB)\n",
            "\u001b[K     |████████████████████████████████| 921kB 4.8MB/s \n",
            "\u001b[?25hRequirement already satisfied: pandas>=0.23.0 in /usr/local/lib/python3.6/dist-packages (from geopandas) (0.25.3)\n",
            "Collecting fiona\n",
            "\u001b[?25l  Downloading https://files.pythonhosted.org/packages/50/f7/9899f8a9a2e38601472fe1079ce5088f58833221c8b8507d8b5eafd5404a/Fiona-1.8.13-cp36-cp36m-manylinux1_x86_64.whl (11.8MB)\n",
            "\u001b[K     |████████████████████████████████| 11.8MB 24.0MB/s \n",
            "\u001b[?25hRequirement already satisfied: shapely in /usr/local/lib/python3.6/dist-packages (from geopandas) (1.6.4.post2)\n",
            "Collecting pyproj\n",
            "\u001b[?25l  Downloading https://files.pythonhosted.org/packages/d6/70/eedc98cd52b86de24a1589c762612a98bea26cde649ffdd60c1db396cce8/pyproj-2.4.2.post1-cp36-cp36m-manylinux2010_x86_64.whl (10.1MB)\n",
            "\u001b[K     |████████████████████████████████| 10.1MB 34.9MB/s \n",
            "\u001b[?25hRequirement already satisfied: numpy>=1.13.3 in /usr/local/lib/python3.6/dist-packages (from pandas>=0.23.0->geopandas) (1.17.4)\n",
            "Requirement already satisfied: python-dateutil>=2.6.1 in /usr/local/lib/python3.6/dist-packages (from pandas>=0.23.0->geopandas) (2.6.1)\n",
            "Requirement already satisfied: pytz>=2017.2 in /usr/local/lib/python3.6/dist-packages (from pandas>=0.23.0->geopandas) (2018.9)\n",
            "Collecting munch\n",
            "  Downloading https://files.pythonhosted.org/packages/cc/ab/85d8da5c9a45e072301beb37ad7f833cd344e04c817d97e0cc75681d248f/munch-2.5.0-py2.py3-none-any.whl\n",
            "Requirement already satisfied: click<8,>=4.0 in /usr/local/lib/python3.6/dist-packages (from fiona->geopandas) (7.0)\n",
            "Requirement already satisfied: attrs>=17 in /usr/local/lib/python3.6/dist-packages (from fiona->geopandas) (19.3.0)\n",
            "Collecting click-plugins>=1.0\n",
            "  Downloading https://files.pythonhosted.org/packages/e9/da/824b92d9942f4e472702488857914bdd50f73021efea15b4cad9aca8ecef/click_plugins-1.1.1-py2.py3-none-any.whl\n",
            "Requirement already satisfied: six>=1.7 in /usr/local/lib/python3.6/dist-packages (from fiona->geopandas) (1.12.0)\n",
            "Collecting cligj>=0.5\n",
            "  Downloading https://files.pythonhosted.org/packages/e4/be/30a58b4b0733850280d01f8bd132591b4668ed5c7046761098d665ac2174/cligj-0.5.0-py3-none-any.whl\n",
            "Installing collected packages: munch, click-plugins, cligj, fiona, pyproj, geopandas\n",
            "Successfully installed click-plugins-1.1.1 cligj-0.5.0 fiona-1.8.13 geopandas-0.6.2 munch-2.5.0 pyproj-2.4.2.post1\n"
          ],
          "name": "stdout"
        }
      ]
    },
    {
      "cell_type": "code",
      "metadata": {
        "colab_type": "code",
        "id": "KwzQHNJbXHxV",
        "outputId": "a41149cd-5b1a-4d99-a378-fb7b1bdbca21",
        "colab": {
          "base_uri": "https://localhost:8080/",
          "height": 403
        }
      },
      "source": [
        "import geopandas as gpd\n",
        "from shapely.geometry import Point\n",
        "\n",
        "# creating a geometry column \n",
        "geometry = [Point(xy) for xy in zip(df['xp'], df['yp'])]\n",
        "\n",
        "# Coordinate reference system : WGS84\n",
        "crs = {'init': 'epsg:3826'}\n",
        "\n",
        "# Creating a Geographic data frame \n",
        "gdf = gpd.GeoDataFrame(df, crs=crs, geometry=geometry)\n",
        "# Plot all points\n",
        "ax = gdf.plot(marker='o', color='r', markersize=16,figsize=(12, 20))\n",
        "df.apply(lambda x: ax.annotate(s=x.PtName, xy=x.geometry.coords[0], ha='left'),axis=1)\n",
        "gdf.to_file(data_dir+\"azdis_pos_cnu.shp\")"
      ],
      "execution_count": 19,
      "outputs": [
        {
          "output_type": "display_data",
          "data": {
            "image/png": "[encoded data removed]",
            "text/plain": [
              "<Figure size 864x1440 with 1 Axes>"
            ]
          },
          "metadata": {
            "tags": []
          }
        }
      ]
    },
    {
      "cell_type": "code",
      "metadata": {
        "id": "q1kdIbTDDF8z",
        "colab_type": "code",
        "colab": {
          "base_uri": "https://localhost:8080/",
          "height": 153
        },
        "outputId": "c6987de2-d1ba-432e-aba9-665d4106098d"
      },
      "source": [
        "!ls 'pygeodadj/notebooks/02_azdis_pos/'"
      ],
      "execution_count": 20,
      "outputs": [
        {
          "output_type": "stream",
          "text": [
            "azdis_pos_cnu.cpg  ch01_01_azdis_Colab.ipynb\n",
            "azdis_pos_cnu.dbf  ch01_01_azdis.ipynb\n",
            "azdis_pos_cnu.prj  ch01_02_azdis_pos.ipynb\n",
            "azdis_pos_cnu.shp  ch01_03_azdis_pos_CNU_Colab.ipynb\n",
            "azdis_pos_cnu.shx  ch01_03_azdis_pos_CNU.ipynb\n",
            "azdis_pos_cnu.txt  ch01_azdis_pos_Colab.ipynb\n",
            "azdis_pos_out.txt  cnu_demo.png\n",
            "azdis_pos.txt\t   maps\n"
          ],
          "name": "stdout"
        }
      ]
    },
    {
      "cell_type": "markdown",
      "metadata": {
        "colab_type": "text",
        "id": "jya4d0OWFlLa"
      },
      "source": [
        "## 課堂與真實世界的鴻溝\n",
        "\n",
        "### 上面這個範例能夠直接產生Shape file已經是非常棒的結果了，還能更好嗎?\n",
        "### 老師改作業能不能直接把結果畫在電子地圖上面直接繳交作業呢? \n",
        "\n",
        "在開始之前，我們先談談座標轉換。要把TWD97 (TM2/121)的 (E, N)座標轉換成WGS-84經緯度座標，我們可參考台灣常用的 EPSG代碼，找到幾個常用的EPSG代碼。\n",
        "\n",
        "To transform TWD97 (TM2/121) E, N to lats and longs in WGS84, we will use pyproj and the EPSG spatial reference list. \n",
        "\n",
        "\n",
        "pyproj是PROJ4程式庫的Python介面，用於製圖轉換。\n",
        "\n",
        "pyproj is a Python interface to PROJ4 library for cartographic transformations.\n",
        "\n",
        "EPSG大地參數數據集註冊表將大地參數存儲為實體。 註冊表維護每個實體的生命週期信息，並管理整個數據集的發布。\n",
        "\n",
        "The EPSG Geodetic Parameter Dataset Registry stores geodetic parameters as entities. The Registry maintains lifecycle information for each entity and manages releases of the entire dataset.\n",
        "\n",
        "pyproj是一個易於使用的軟件包，是Python中最簡單的解決方案。 我們繼續使用WGS84的基準名稱和ED50的EPSG代碼轉換坐標。 在這兩者上，我們都使用地理上非投影的數據。 使用http://www.epsg-registry.org網站通過搜索基準名稱來提取EPSG代碼。 從WGS84 latlong到TWD97 TM2坐標的坐標轉換：\n",
        "\n",
        "pyproj is a easy to use package and is the most simple solution for this in Python. Let's go ahead and transform the coordinates using the datum name for the WGS84 and the EPSG code for the ED50. On both we use geographic unprojected data. The EPSG code is extracted using the http://www.epsg-registry.org site by searching for the name of the datum. Coordinate transform from WGS84 latlong to the TWD97 TM2 coordinates:"
      ]
    },
    {
      "cell_type": "code",
      "metadata": {
        "colab_type": "code",
        "id": "M5HmSushS95f",
        "outputId": "3fee15b0-6776-4179-a1cf-434a637dbd24",
        "colab": {
          "base_uri": "https://localhost:8080/",
          "height": 1000
        }
      },
      "source": [
        "import pyproj\n",
        "import folium\n",
        "\n",
        "#座標轉換，把測站位置放在地圖中心\n",
        "WGS84 = pyproj.Proj(proj='latlong', datum='WGS84')\n",
        "TWD97_TM2 = pyproj.Proj(init='epsg:3826')\n",
        "lon, lat = pyproj.transform(TWD97_TM2,WGS84, xa, ya)\n",
        "\n",
        "# 把測站位置放在地圖中心\n",
        "cnu_pts = gpd.read_file(data_dir+'azdis_pos_cnu.shp')\n",
        "m = folium.Map(location=[lat, lon], zoom_start=17)\n",
        "folium.GeoJson(cnu_pts).add_to(m)\n",
        "m"
      ],
      "execution_count": 13,
      "outputs": [
        {
          "output_type": "stream",
          "text": [
            "/usr/local/lib/python3.6/dist-packages/pyproj/crs.py:77: FutureWarning: '+init=<authority>:<code>' syntax is deprecated. '<authority>:<code>' is the preferred initialization method.\n",
            "  return _prepare_from_string(\" \".join(pjargs))\n",
            "/usr/local/lib/python3.6/dist-packages/pyproj/crs.py:77: FutureWarning: '+init=<authority>:<code>' syntax is deprecated. '<authority>:<code>' is the preferred initialization method.\n",
            "  return _prepare_from_string(\" \".join(pjargs))\n"
          ],
          "name": "stderr"
        },
        {
          "output_type": "execute_result",
          "data": {
            "text/html": [
              "<div style=\"width:100%;\"><div style=\"position:relative;width:100%;height:0;padding-bottom:60%;\"><iframe src=\"data:text/html;charset=utf-8;base64,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\" style=\"position:absolute;width:100%;height:100%;left:0;top:0;border:none !important;\" allowfullscreen webkitallowfullscreen mozallowfullscreen></iframe></div></div>"
            ],
            "text/plain": [
              "<folium.folium.Map at 0x7fe5ec3c8860>"
            ]
          },
          "metadata": {
            "tags": []
          },
          "execution_count": 13
        }
      ]
    },
    {
      "cell_type": "code",
      "metadata": {
        "colab_type": "code",
        "id": "gu84747_x1Jt",
        "colab": {}
      },
      "source": [
        ""
      ],
      "execution_count": 0,
      "outputs": []
    }
  ]
}