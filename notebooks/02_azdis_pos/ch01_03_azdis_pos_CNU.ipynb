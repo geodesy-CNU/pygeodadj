{
 "cells": [
  {
   "cell_type": "markdown",
   "metadata": {
    "colab_type": "text",
    "id": "3VIb0IDIzs_r"
   },
   "source": [
    "# 誤差理論與測量平差課程輔助程式\n",
    "## 作者：黃明哲博士 (geodesy.cnu@gmail.com)\n",
    "#### ch01_03_azdis_pos_CNU.ipynb\n",
    "#### 平面點基本定位方法 (方位角+距離) 極坐標法 (光線法) 範例\n",
    "#### 嘉南藥理大學校區測量實際案例\n",
    "\n",
    "<img src=\"https://drive.google.com/uc?id=13Q_PTnPRf47xzE-QH6-Zj5cinVH6lcNz\">\n",
    "\n",
    "\n",
    "程式操作方法：\n",
    "開啟本記事簿，輸入觀測點座標、原方向參考座標，<br />\n",
    "點位號碼、觀測的距離、從參考原方向的方向角\n",
    "\n",
    "即可獲得各點位的座標"
   ]
  },
  {
   "cell_type": "code",
   "execution_count": 1,
   "metadata": {
    "colab": {},
    "colab_type": "code",
    "id": "fjbbVnnb0Fov"
   },
   "outputs": [],
   "source": [
    "%matplotlib inline\n",
    "\n",
    "from pygeodadj.adj_utils import azdis\n",
    "from pygeodadj.adj_utils import plot_azdis\n",
    "from pygeodadj.adj_utils import azdis_compute\n",
    "from pygeodadj.adj_utils import plot_azdis_pos\n",
    "from pygeodadj.adj_utils import dms2d\n",
    "from pygeodadj.adj_utils import azdis_pos_df"
   ]
  },
  {
   "cell_type": "code",
   "execution_count": 6,
   "metadata": {
    "colab": {
     "base_uri": "https://localhost:8080/",
     "height": 34
    },
    "colab_type": "code",
    "executionInfo": {
     "elapsed": 822,
     "status": "ok",
     "timestamp": 1572779927217,
     "user": {
      "displayName": "Geodesy CNU",
      "photoUrl": "",
      "userId": "05784265120908310594"
     },
     "user_tz": -480
    },
    "id": "z2k-HCmRWSka",
    "outputId": "26eb5253-6509-4713-b4e1-bf0ef13dce7e"
   },
   "outputs": [
    {
     "name": "stdout",
     "output_type": "stream",
     "text": [
      "Drive already mounted at /content/drive/; to attempt to forcibly remount, call drive.mount(\"/content/drive/\", force_remount=True).\n"
     ]
    }
   ],
   "source": [
    "# Google Drive特殊需要載入的程式庫\n",
    "\n",
    "from google.colab import drive\n",
    "drive.mount('/content/drive/')\n",
    "data_dir='drive/My Drive/Colab Notebooks/Courses/adjustment/'"
   ]
  },
  {
   "cell_type": "markdown",
   "metadata": {
    "colab_type": "text",
    "id": "UfMZAB5kpJtx"
   },
   "source": [
    "## 嘉南藥理大學案例，產生Shape file\n",
    "## 嘉南藥理大學校內控制點配置圖\n",
    "<img src=\"https://drive.google.com/uc?id=14ypUYV6OAOsw1Zhhmusu5l0UHpWgfoX0\">\n"
   ]
  },
  {
   "cell_type": "code",
   "execution_count": 2,
   "metadata": {
    "colab": {
     "base_uri": "https://localhost:8080/",
     "height": 272
    },
    "colab_type": "code",
    "executionInfo": {
     "elapsed": 671,
     "status": "ok",
     "timestamp": 1572781222057,
     "user": {
      "displayName": "Geodesy CNU",
      "photoUrl": "",
      "userId": "05784265120908310594"
     },
     "user_tz": -480
    },
    "id": "gfChhBGMsFaj",
    "outputId": "8e8c2173-8ef0-403b-93f9-2b4adc26b459"
   },
   "outputs": [
    {
     "data": {
      "text/html": [
       "<div>\n",
       "<style scoped>\n",
       "    .dataframe tbody tr th:only-of-type {\n",
       "        vertical-align: middle;\n",
       "    }\n",
       "\n",
       "    .dataframe tbody tr th {\n",
       "        vertical-align: top;\n",
       "    }\n",
       "\n",
       "    .dataframe thead th {\n",
       "        text-align: right;\n",
       "    }\n",
       "</style>\n",
       "<table border=\"1\" class=\"dataframe\">\n",
       "  <thead>\n",
       "    <tr style=\"text-align: right;\">\n",
       "      <th></th>\n",
       "      <th>PtName</th>\n",
       "      <th>deg</th>\n",
       "      <th>min</th>\n",
       "      <th>sec</th>\n",
       "      <th>dist</th>\n",
       "      <th>xp</th>\n",
       "      <th>yp</th>\n",
       "    </tr>\n",
       "  </thead>\n",
       "  <tbody>\n",
       "    <tr>\n",
       "      <th>0</th>\n",
       "      <td>obs</td>\n",
       "      <td>0</td>\n",
       "      <td>0</td>\n",
       "      <td>0.000000</td>\n",
       "      <td>0.000000</td>\n",
       "      <td>170559.450000</td>\n",
       "      <td>2.535801e+06</td>\n",
       "    </tr>\n",
       "    <tr>\n",
       "      <th>1</th>\n",
       "      <td>ref</td>\n",
       "      <td>98</td>\n",
       "      <td>54</td>\n",
       "      <td>54.511514</td>\n",
       "      <td>170.270042</td>\n",
       "      <td>170727.663000</td>\n",
       "      <td>2.535775e+06</td>\n",
       "    </tr>\n",
       "    <tr>\n",
       "      <th>2</th>\n",
       "      <td>pt_1</td>\n",
       "      <td>10</td>\n",
       "      <td>23</td>\n",
       "      <td>10.000000</td>\n",
       "      <td>95.500000</td>\n",
       "      <td>170649.582300</td>\n",
       "      <td>2.535769e+06</td>\n",
       "    </tr>\n",
       "    <tr>\n",
       "      <th>3</th>\n",
       "      <td>pt_2</td>\n",
       "      <td>32</td>\n",
       "      <td>45</td>\n",
       "      <td>30.000000</td>\n",
       "      <td>120.530000</td>\n",
       "      <td>170649.479409</td>\n",
       "      <td>2.535721e+06</td>\n",
       "    </tr>\n",
       "    <tr>\n",
       "      <th>4</th>\n",
       "      <td>pt_3</td>\n",
       "      <td>348</td>\n",
       "      <td>45</td>\n",
       "      <td>30.000000</td>\n",
       "      <td>157.530000</td>\n",
       "      <td>170716.850149</td>\n",
       "      <td>2.535807e+06</td>\n",
       "    </tr>\n",
       "  </tbody>\n",
       "</table>\n",
       "</div>"
      ],
      "text/plain": [
       "  PtName  deg  min        sec        dist             xp            yp\n",
       "0    obs    0    0   0.000000    0.000000  170559.450000  2.535801e+06\n",
       "1    ref   98   54  54.511514  170.270042  170727.663000  2.535775e+06\n",
       "2   pt_1   10   23  10.000000   95.500000  170649.582300  2.535769e+06\n",
       "3   pt_2   32   45  30.000000  120.530000  170649.479409  2.535721e+06\n",
       "4   pt_3  348   45  30.000000  157.530000  170716.850149  2.535807e+06"
      ]
     },
     "execution_count": 2,
     "metadata": {},
     "output_type": "execute_result"
    }
   ],
   "source": [
    "# test data\n",
    "data_dir='./'\n",
    "path=data_dir+'azdis_pos_cnu.txt'\n",
    "   \n",
    "df=azdis_pos_df(path)\n",
    "df.head()"
   ]
  },
  {
   "cell_type": "code",
   "execution_count": 7,
   "metadata": {},
   "outputs": [
    {
     "name": "stdout",
     "output_type": "stream",
     "text": [
      "觀測點：\t170559.450 2535801.064\n",
      "參考點：\t170727.663 2535774.677\n",
      "距離:\t 170.270m\n",
      "參考方位： 098度 54分54.51秒\n"
     ]
    }
   ],
   "source": [
    "#顯示計算結果 \n",
    "obs=df.loc[0]\n",
    "xa=obs['xp']\n",
    "ya=obs['yp']\n",
    "\n",
    "ref=df.loc[1]\n",
    "xb=ref['xp']\n",
    "yb=ref['yp']\n",
    "dis=ref['dist']\n",
    "deg=ref['deg']\n",
    "mm=ref['min']\n",
    "sec=ref['sec']\n",
    "\n",
    "print(\"觀測點：\\t%.3f %.3f\"%(xa,ya))\n",
    "print(\"參考點：\\t%.3f %.3f\"%(xb,yb))\n",
    "print(\"距離:\\t %.3fm\"%(dis))\n",
    "print(\"參考方位： %3.3d度 %2.2d分%.2f秒\"%(deg,mm,sec))"
   ]
  },
  {
   "cell_type": "markdown",
   "metadata": {
    "colab_type": "text",
    "id": "waWz2XFCHITF"
   },
   "source": [
    "## 計算完的座標，可以產生圖檔嗎?\n",
    "How about ESRI Shape file?"
   ]
  },
  {
   "cell_type": "code",
   "execution_count": 8,
   "metadata": {
    "colab": {
     "base_uri": "https://localhost:8080/",
     "height": 403
    },
    "colab_type": "code",
    "executionInfo": {
     "elapsed": 987,
     "status": "ok",
     "timestamp": 1572782057187,
     "user": {
      "displayName": "Geodesy CNU",
      "photoUrl": "",
      "userId": "05784265120908310594"
     },
     "user_tz": -480
    },
    "id": "KwzQHNJbXHxV",
    "outputId": "25b0cc60-ee5f-474a-ecb7-8e8fd8b167e3"
   },
   "outputs": [
    {
     "data": {
      "image/png": "[encoded data removed]",
      "text/plain": [
       "<Figure size 864x1440 with 1 Axes>"
      ]
     },
     "metadata": {
      "needs_background": "light"
     },
     "output_type": "display_data"
    }
   ],
   "source": [
    "import geopandas as gpd\n",
    "from shapely.geometry import Point\n",
    "\n",
    "# creating a geometry column \n",
    "geometry = [Point(xy) for xy in zip(df['xp'], df['yp'])]\n",
    "\n",
    "# Coordinate reference system : WGS84\n",
    "crs = {'init': 'epsg:3826'}\n",
    "\n",
    "# Creating a Geographic data frame \n",
    "gdf = gpd.GeoDataFrame(df, crs=crs, geometry=geometry)\n",
    "# Plot all points\n",
    "ax = gdf.plot(marker='o', color='r', markersize=16,figsize=(12, 20))\n",
    "df.apply(lambda x: ax.annotate(s=x.PtName, xy=x.geometry.coords[0], ha='left'),axis=1)\n",
    "gdf.to_file(data_dir+\"azdis_pos_cnu.shp\")"
   ]
  },
  {
   "cell_type": "markdown",
   "metadata": {
    "colab_type": "text",
    "id": "jya4d0OWFlLa"
   },
   "source": [
    "## 課堂與真實世界的鴻溝\n",
    "\n",
    "### 上面這個範例能夠直接產生Shape file已經是非常棒的結果了，還能更好嗎?\n",
    "### 老師改作業能不能直接把結果畫在電子地圖上面直接繳交作業呢? \n",
    "\n",
    "在開始之前，我們先談談座標轉換。要把TWD97 (TM2/121)的 (E, N)座標轉換成WGS-84經緯度座標，我們可參考台灣常用的 EPSG代碼，找到幾個常用的EPSG代碼。\n",
    "\n",
    "To transform TWD97 (TM2/121) E, N to lats and longs in WGS84, we will use pyproj and the EPSG spatial reference list. \n",
    "\n",
    "\n",
    "pyproj是PROJ4程式庫的Python介面，用於製圖轉換。\n",
    "\n",
    "pyproj is a Python interface to PROJ4 library for cartographic transformations.\n",
    "\n",
    "EPSG大地參數數據集註冊表將大地參數存儲為實體。 註冊表維護每個實體的生命週期信息，並管理整個數據集的發布。\n",
    "\n",
    "The EPSG Geodetic Parameter Dataset Registry stores geodetic parameters as entities. The Registry maintains lifecycle information for each entity and manages releases of the entire dataset.\n",
    "\n",
    "pyproj是一個易於使用的軟件包，是Python中最簡單的解決方案。 我們繼續使用WGS84的基準名稱和ED50的EPSG代碼轉換坐標。 在這兩者上，我們都使用地理上非投影的數據。 使用http://www.epsg-registry.org網站通過搜索基準名稱來提取EPSG代碼。 從WGS84 latlong到TWD97 TM2坐標的坐標轉換：\n",
    "\n",
    "pyproj is a easy to use package and is the most simple solution for this in Python. Let's go ahead and transform the coordinates using the datum name for the WGS84 and the EPSG code for the ED50. On both we use geographic unprojected data. The EPSG code is extracted using the http://www.epsg-registry.org site by searching for the name of the datum. Coordinate transform from WGS84 latlong to the TWD97 TM2 coordinates:"
   ]
  },
  {
   "cell_type": "code",
   "execution_count": 10,
   "metadata": {
    "colab": {
     "base_uri": "https://localhost:8080/",
     "height": 703
    },
    "colab_type": "code",
    "executionInfo": {
     "elapsed": 1840,
     "status": "ok",
     "timestamp": 1572781322757,
     "user": {
      "displayName": "Geodesy CNU",
      "photoUrl": "",
      "userId": "05784265120908310594"
     },
     "user_tz": -480
    },
    "id": "M5HmSushS95f",
    "outputId": "5d948a98-2600-47ba-bfc7-895e26c53895"
   },
   "outputs": [
    {
     "data": {
      "text/html": [
       "<div style=\"width:100%;\"><div style=\"position:relative;width:100%;height:0;padding-bottom:60%;\"><iframe src=\"data:text/html;charset=utf-8;base64,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\" style=\"position:absolute;width:100%;height:100%;left:0;top:0;border:none !important;\" allowfullscreen webkitallowfullscreen mozallowfullscreen></iframe></div></div>"
      ],
      "text/plain": [
       "<folium.folium.Map at 0x18276abf668>"
      ]
     },
     "execution_count": 10,
     "metadata": {},
     "output_type": "execute_result"
    }
   ],
   "source": [
    "import pyproj\n",
    "import folium\n",
    "\n",
    "#座標轉換，把測站位置放在地圖中心\n",
    "WGS84 = pyproj.Proj(proj='latlong', datum='WGS84')\n",
    "TWD97_TM2 = pyproj.Proj(init='epsg:3826')\n",
    "lon, lat = pyproj.transform(TWD97_TM2,WGS84, xa, ya)\n",
    "\n",
    "# 把測站位置放在地圖中心\n",
    "cnu_pts = gpd.read_file(data_dir+'azdis_pos_cnu.shp')\n",
    "m = folium.Map(location=[lat, lon], zoom_start=17)\n",
    "folium.GeoJson(cnu_pts).add_to(m)\n",
    "m"
   ]
  },
  {
   "cell_type": "code",
   "execution_count": 0,
   "metadata": {
    "colab": {},
    "colab_type": "code",
    "id": "gu84747_x1Jt"
   },
   "outputs": [],
   "source": []
  }
 ],
 "metadata": {
  "colab": {
   "collapsed_sections": [],
   "name": "ch01_03_azdis_pos_CNU.ipynb",
   "provenance": []
  },
  "kernelspec": {
   "display_name": "Python 3",
   "language": "python",
   "name": "python3"
  },
  "language_info": {
   "codemirror_mode": {
    "name": "ipython",
    "version": 3
   },
   "file_extension": ".py",
   "mimetype": "text/x-python",
   "name": "python",
   "nbconvert_exporter": "python",
   "pygments_lexer": "ipython3",
   "version": "3.7.3"
  }
 },
 "nbformat": 4,
 "nbformat_minor": 1
}
